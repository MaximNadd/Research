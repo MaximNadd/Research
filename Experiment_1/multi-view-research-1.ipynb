{
  "cells": [
    {
      "cell_type": "code",
      "execution_count": 1,
      "id": "f281acdf",
      "metadata": {
        "_cell_guid": "b1076dfc-b9ad-4769-8c92-a6c4dae69d19",
        "_uuid": "8f2839f25d086af736a60e9eeb907d3b93b6e0e5",
        "execution": {
          "iopub.execute_input": "2025-03-21T01:39:03.472259Z",
          "iopub.status.busy": "2025-03-21T01:39:03.472003Z",
          "iopub.status.idle": "2025-03-21T01:39:17.501324Z",
          "shell.execute_reply": "2025-03-21T01:39:17.500227Z"
        },
        "papermill": {
          "duration": 14.035528,
          "end_time": "2025-03-21T01:39:17.502887",
          "exception": false,
          "start_time": "2025-03-21T01:39:03.467359",
          "status": "completed"
        },
        "tags": [],
        "id": "f281acdf"
      },
      "outputs": [],
      "source": [
        "import tensorflow as tf\n",
        "import os\n",
        "import numpy as np\n",
        "import matplotlib.pyplot as plt\n",
        "import seaborn as sns\n",
        "import nibabel as nib\n",
        "from scipy import ndimage\n",
        "import zipfile\n",
        "from keras.utils import get_file"
      ]
    },
    {
      "cell_type": "code",
      "execution_count": 2,
      "id": "442bcd7a",
      "metadata": {
        "papermill": {
          "duration": 0.044248,
          "end_time": "2025-03-21T01:39:29.144330",
          "exception": false,
          "start_time": "2025-03-21T01:39:29.100082",
          "status": "completed"
        },
        "tags": [],
        "id": "442bcd7a",
        "outputId": "15ae395e-f171-438b-ceca-231a7b985c79",
        "colab": {
          "base_uri": "https://localhost:8080/"
        }
      },
      "outputs": [
        {
          "output_type": "stream",
          "name": "stdout",
          "text": [
            "Downloading data from https://github.com/hasibzunair/3D-image-classification-tutorial/releases/download/v0.2/CT-0.zip\n",
            "\u001b[1m1065471431/1065471431\u001b[0m \u001b[32m━━━━━━━━━━━━━━━━━━━━\u001b[0m\u001b[37m\u001b[0m \u001b[1m96s\u001b[0m 0us/step\n",
            "Downloading data from https://github.com/hasibzunair/3D-image-classification-tutorial/releases/download/v0.2/CT-23.zip\n",
            "\u001b[1m1045162547/1045162547\u001b[0m \u001b[32m━━━━━━━━━━━━━━━━━━━━\u001b[0m\u001b[37m\u001b[0m \u001b[1m63s\u001b[0m 0us/step\n"
          ]
        }
      ],
      "source": [
        "url_1 = \"https://github.com/hasibzunair/3D-image-classification-tutorial/releases/download/v0.2/CT-0.zip\"\n",
        "url_2 = \"https://github.com/hasibzunair/3D-image-classification-tutorial/releases/download/v0.2/CT-23.zip\"\n",
        "\n",
        "# Directory where the files will be stored\n",
        "cache_dir = os.getcwd()  # Current working directory\n",
        "\n",
        "# Download the first file\n",
        "filename_1 = get_file(\"CT-0.zip\", url_1, cache_dir=cache_dir)\n",
        "\n",
        "# Download the second file\n",
        "filename_2 = get_file(\"CT-23.zip\", url_2, cache_dir=cache_dir)\n",
        "\n",
        "# Make a directory to store the data\n",
        "os.makedirs(\"MosMedData\", exist_ok=True)  # Using exist_ok=True to avoid errors if the directory exists\n",
        "\n",
        "# Unzip the first file\n",
        "with zipfile.ZipFile(filename_1, \"r\") as z_fp:\n",
        "    z_fp.extractall(\"./MosMedData/\")\n",
        "\n",
        "# Unzip the second file\n",
        "with zipfile.ZipFile(filename_2, \"r\") as z_fp:\n",
        "    z_fp.extractall(\"./MosMedData/\")"
      ]
    },
    {
      "cell_type": "code",
      "source": [
        "for dirpath, dirnames, filenames in os.walk(\"MosMedData\"):\n",
        "  print(f\"There are {len(dirnames)} directories and {len(filenames)} images in '{dirpath}'.\")"
      ],
      "metadata": {
        "id": "set7B1cym9Zr",
        "outputId": "4e3db06e-f3ea-48b3-b54d-e54de86b886f",
        "colab": {
          "base_uri": "https://localhost:8080/"
        }
      },
      "id": "set7B1cym9Zr",
      "execution_count": 3,
      "outputs": [
        {
          "output_type": "stream",
          "name": "stdout",
          "text": [
            "There are 2 directories and 0 images in 'MosMedData'.\n",
            "There are 0 directories and 100 images in 'MosMedData/CT-23'.\n",
            "There are 0 directories and 100 images in 'MosMedData/CT-0'.\n"
          ]
        }
      ]
    },
    {
      "cell_type": "code",
      "source": [
        "def read_nifti_file(filepath):\n",
        "    \"\"\"Read and load volume\"\"\"\n",
        "    # Read file\n",
        "    scan = nib.load(filepath)\n",
        "    # Get raw data\n",
        "    scan = scan.get_fdata()\n",
        "    return scan\n",
        "\n",
        "\n",
        "def normalize(volume):\n",
        "    \"\"\"Normalize the volume\"\"\"\n",
        "    min = -1000\n",
        "    max = 400\n",
        "    volume[volume < min] = min\n",
        "    volume[volume > max] = max\n",
        "    volume = (volume - min) / (max - min)\n",
        "    volume = volume.astype(\"float32\")\n",
        "    return volume\n",
        "\n",
        "\n",
        "def resize_volume(img):\n",
        "    \"\"\"Resize across z-axis\"\"\"\n",
        "    # Set the desired depth\n",
        "    desired_depth = 64\n",
        "    desired_width = 128\n",
        "    desired_height = 128\n",
        "    # Get current depth\n",
        "    current_depth = img.shape[-1]\n",
        "    current_width = img.shape[0]\n",
        "    current_height = img.shape[1]\n",
        "    # Compute depth factor\n",
        "    depth = current_depth / desired_depth\n",
        "    width = current_width / desired_width\n",
        "    height = current_height / desired_height\n",
        "    depth_factor = 1 / depth\n",
        "    width_factor = 1 / width\n",
        "    height_factor = 1 / height\n",
        "    # Rotate\n",
        "    img = ndimage.rotate(img, 90, reshape=False)\n",
        "    # Resize across z-axis\n",
        "    img = ndimage.zoom(img, (width_factor, height_factor, depth_factor), order=1)\n",
        "    return img\n",
        "\n",
        "\n",
        "def process_scan(path):\n",
        "    \"\"\"Read and resize volume\"\"\"\n",
        "    # Read scan\n",
        "    volume = read_nifti_file(path)\n",
        "    # Normalize\n",
        "    volume = normalize(volume)\n",
        "    # Resize width, height and depth\n",
        "    volume = resize_volume(volume)\n",
        "    return volume"
      ],
      "metadata": {
        "id": "b9Ngkp4rj0-g"
      },
      "id": "b9Ngkp4rj0-g",
      "execution_count": 4,
      "outputs": []
    },
    {
      "cell_type": "code",
      "source": [
        "normal_scan_paths = [\n",
        "    os.path.join(os.getcwd(), \"MosMedData/CT-0\", x)\n",
        "    for x in os.listdir(\"MosMedData/CT-0\")\n",
        "]\n",
        "\n",
        "# Folder \"CT-23\" consist of CT scans having several ground-glass opacifications,\n",
        "# involvement of lung parenchyma.\n",
        "abnormal_scan_paths = [\n",
        "    os.path.join(os.getcwd(), \"MosMedData/CT-23\", x)\n",
        "    for x in os.listdir(\"MosMedData/CT-23\")\n",
        "]\n",
        "\n",
        "print(normal_scan_paths[:2])\n",
        "print(abnormal_scan_paths[:2])\n"
      ],
      "metadata": {
        "id": "uxtuEF-Aj97B",
        "outputId": "c4fe9367-ccff-43e9-b8b1-917d6af614c2",
        "colab": {
          "base_uri": "https://localhost:8080/"
        }
      },
      "id": "uxtuEF-Aj97B",
      "execution_count": 5,
      "outputs": [
        {
          "output_type": "stream",
          "name": "stdout",
          "text": [
            "['/content/MosMedData/CT-0/study_0004.nii.gz', '/content/MosMedData/CT-0/study_0085.nii.gz']\n",
            "['/content/MosMedData/CT-23/study_0941.nii.gz', '/content/MosMedData/CT-23/study_0942.nii.gz']\n"
          ]
        }
      ]
    },
    {
      "cell_type": "code",
      "source": [
        "def split_ct_scan(volume, num_slices=8):\n",
        "    \"\"\"\n",
        "    Splits a 3D CT scan (depth = 64) into 8 batches of 8 slices each.\n",
        "\n",
        "    Args:\n",
        "        volume (numpy array): A single 3D CT scan of shape (H, W, D).\n",
        "        num_slices (int): Number of slices per batch.\n",
        "\n",
        "    Returns:\n",
        "        numpy array: Shape (8, H, W, num_slices).\n",
        "    \"\"\"\n",
        "    H, W, D = volume.shape  # Extract height, width, depth (64 slices)\n",
        "\n",
        "    # Ensure depth is evenly divisible by num_slices\n",
        "    assert D % num_slices == 0, \"Depth must be divisible by the number of slices per batch\"\n",
        "\n",
        "    # Split into 8 batches of 8 slices each\n",
        "    split_volume = np.stack([volume[:, :, i * num_slices:(i + 1) * num_slices] for i in range(D // num_slices)], axis=0)\n",
        "\n",
        "    return split_volume  # Shape: (8, H, W, num_slices)\n"
      ],
      "metadata": {
        "id": "Cbvip7KXzBu1"
      },
      "id": "Cbvip7KXzBu1",
      "execution_count": 10,
      "outputs": []
    },
    {
      "cell_type": "code",
      "source": [
        "abnormal_scans = np.array([split_ct_scan(process_scan(path)) for path in abnormal_scan_paths])\n",
        "normal_scans = np.array([split_ct_scan(process_scan(path)) for path in normal_scan_paths])\n",
        "\n",
        "# Reshape to flatten batches: (num_scans * 8, H, W, 8)\n",
        "abnormal_scans = abnormal_scans.reshape(-1, *abnormal_scans.shape[2:])\n",
        "normal_scans = normal_scans.reshape(-1, *normal_scans.shape[2:])\n",
        "\n",
        "# For the CT scans having presence of viral pneumonia\n",
        "# assign 1, for the normal ones assign 0.\n",
        "abnormal_labels = np.array([1 for _ in range(len(abnormal_scans))])\n",
        "normal_labels = np.array([0 for _ in range(len(normal_scans))])\n",
        "\n",
        "print(normal_scans.shape)\n",
        "print(normal_labels.shape)\n",
        "print(\"---------------------\")\n",
        "print(abnormal_scans.shape)\n",
        "print(abnormal_labels.shape)\n",
        "\n"
      ],
      "metadata": {
        "id": "chcxCF3Amemj"
      },
      "id": "chcxCF3Amemj",
      "execution_count": null,
      "outputs": []
    },
    {
      "cell_type": "code",
      "source": [],
      "metadata": {
        "id": "pKu33GT6ohja"
      },
      "id": "pKu33GT6ohja",
      "execution_count": null,
      "outputs": []
    }
  ],
  "metadata": {
    "kaggle": {
      "accelerator": "none",
      "dataSources": [
        {
          "databundleVersionId": 2420395,
          "sourceId": 29653,
          "sourceType": "competition"
        }
      ],
      "dockerImageVersionId": 30919,
      "isGpuEnabled": false,
      "isInternetEnabled": true,
      "language": "python",
      "sourceType": "notebook"
    },
    "kernelspec": {
      "display_name": "Python 3",
      "name": "python3"
    },
    "language_info": {
      "codemirror_mode": {
        "name": "ipython",
        "version": 3
      },
      "file_extension": ".py",
      "mimetype": "text/x-python",
      "name": "python",
      "nbconvert_exporter": "python",
      "pygments_lexer": "ipython3",
      "version": "3.10.12"
    },
    "papermill": {
      "default_parameters": {},
      "duration": 30.776915,
      "end_time": "2025-03-21T01:39:31.730854",
      "environment_variables": {},
      "exception": null,
      "input_path": "__notebook__.ipynb",
      "output_path": "__notebook__.ipynb",
      "parameters": {},
      "start_time": "2025-03-21T01:39:00.953939",
      "version": "2.6.0"
    },
    "colab": {
      "provenance": [],
      "gpuType": "T4"
    },
    "accelerator": "GPU"
  },
  "nbformat": 4,
  "nbformat_minor": 5
}