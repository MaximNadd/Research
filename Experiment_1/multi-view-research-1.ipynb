{
  "cells": [
    {
      "cell_type": "code",
      "execution_count": 11,
      "id": "f281acdf",
      "metadata": {
        "_cell_guid": "b1076dfc-b9ad-4769-8c92-a6c4dae69d19",
        "_uuid": "8f2839f25d086af736a60e9eeb907d3b93b6e0e5",
        "execution": {
          "iopub.execute_input": "2025-03-21T01:39:03.472259Z",
          "iopub.status.busy": "2025-03-21T01:39:03.472003Z",
          "iopub.status.idle": "2025-03-21T01:39:17.501324Z",
          "shell.execute_reply": "2025-03-21T01:39:17.500227Z"
        },
        "papermill": {
          "duration": 14.035528,
          "end_time": "2025-03-21T01:39:17.502887",
          "exception": false,
          "start_time": "2025-03-21T01:39:03.467359",
          "status": "completed"
        },
        "tags": [],
        "id": "f281acdf"
      },
      "outputs": [],
      "source": [
        "import tensorflow as tf\n",
        "import os\n",
        "import numpy as np\n",
        "import matplotlib.pyplot as plt\n",
        "import seaborn as sns\n",
        "import nibabel as nib\n",
        "from scipy import ndimage\n",
        "from scipy.ndimage import rotate, zoom\n",
        "import zipfile\n",
        "import random\n",
        "from keras.utils import get_file\n",
        "from sklearn.model_selection import train_test_split"
      ]
    },
    {
      "cell_type": "code",
      "execution_count": 15,
      "id": "442bcd7a",
      "metadata": {
        "papermill": {
          "duration": 0.044248,
          "end_time": "2025-03-21T01:39:29.144330",
          "exception": false,
          "start_time": "2025-03-21T01:39:29.100082",
          "status": "completed"
        },
        "tags": [],
        "id": "442bcd7a",
        "outputId": "df85262d-4b0b-4f54-b965-94fef5f6bd63",
        "colab": {
          "base_uri": "https://localhost:8080/"
        }
      },
      "outputs": [
        {
          "output_type": "stream",
          "name": "stdout",
          "text": [
            "Downloading data from https://github.com/hasibzunair/3D-image-classification-tutorial/releases/download/v0.2/CT-0.zip\n",
            "\u001b[1m1065471431/1065471431\u001b[0m \u001b[32m━━━━━━━━━━━━━━━━━━━━\u001b[0m\u001b[37m\u001b[0m \u001b[1m10s\u001b[0m 0us/step\n"
          ]
        }
      ],
      "source": [
        "url_1 = \"https://github.com/hasibzunair/3D-image-classification-tutorial/releases/download/v0.2/CT-0.zip\"\n",
        "url_2 = \"https://github.com/hasibzunair/3D-image-classification-tutorial/releases/download/v0.2/CT-23.zip\"\n",
        "\n",
        "# Directory where the files will be stored\n",
        "cache_dir = os.getcwd()  # Current working directory\n",
        "\n",
        "# Download the first file\n",
        "filename_1 = get_file(\"CT-0.zip\", url_1, cache_dir=cache_dir)\n",
        "\n",
        "# Download the second file\n",
        "filename_2 = get_file(\"CT-23.zip\", url_2, cache_dir=cache_dir)\n",
        "\n",
        "# Make a directory to store the data\n",
        "os.makedirs(\"MosMedData\", exist_ok=True)  # Using exist_ok=True to avoid errors if the directory exists\n",
        "\n",
        "# Unzip the first file\n",
        "with zipfile.ZipFile(filename_1, \"r\") as z_fp:\n",
        "    z_fp.extractall(\"./MosMedData/\")\n",
        "\n",
        "# Unzip the second file\n",
        "with zipfile.ZipFile(filename_2, \"r\") as z_fp:\n",
        "    z_fp.extractall(\"./MosMedData/\")"
      ]
    },
    {
      "cell_type": "code",
      "source": [
        "for dirpath, dirnames, filenames in os.walk(\"MosMedData\"):\n",
        "  print(f\"There are {len(dirnames)} directories and {len(filenames)} images in '{dirpath}'.\")"
      ],
      "metadata": {
        "id": "set7B1cym9Zr",
        "outputId": "03a1222c-eb2a-415b-b632-bf95475896ba",
        "colab": {
          "base_uri": "https://localhost:8080/"
        }
      },
      "id": "set7B1cym9Zr",
      "execution_count": 16,
      "outputs": [
        {
          "output_type": "stream",
          "name": "stdout",
          "text": [
            "There are 2 directories and 0 images in 'MosMedData'.\n",
            "There are 0 directories and 100 images in 'MosMedData/CT-0'.\n",
            "There are 0 directories and 100 images in 'MosMedData/CT-23'.\n"
          ]
        }
      ]
    },
    {
      "cell_type": "code",
      "source": [
        "# import shutil\n",
        "\n",
        "# # Path to the directory to be deleted\n",
        "# directory_path_ct23 = '/content/MosMedData/CT-23'\n",
        "# directory_path_ct0 = '/content/MosMedData/CT-0'\n",
        "\n",
        "# # Delete the directory and all its contents\n",
        "# shutil.rmtree(directory_path_ct23)\n",
        "# shutil.rmtree(directory_path_ct0)"
      ],
      "metadata": {
        "id": "VQw3Se0UVaVy"
      },
      "id": "VQw3Se0UVaVy",
      "execution_count": 14,
      "outputs": []
    },
    {
      "cell_type": "code",
      "source": [
        "# Function to load a .nii.gz file\n",
        "def load_nii(file_path):\n",
        "    return nib.load(file_path).get_fdata()\n",
        "\n",
        "def save_nii(volume, save_path):\n",
        "    new_img = nib.Nifti1Image(volume, np.eye(4))  # Assuming the affine matrix is identity\n",
        "    nib.save(new_img, save_path)\n",
        "\n",
        "# Function to apply a random rotation to the volume\n",
        "def random_rotate(volume):\n",
        "    angle = random.uniform(0, 360)\n",
        "    return rotate(volume, angle, axes=(0, 1), reshape=False)  # Rotate around the first two axes\n",
        "\n",
        "# Function to apply random zoom to the volume\n",
        "def random_zoom(volume):\n",
        "    zoom_factor = random.uniform(0.8, 1.2)  # Random zoom factor between 0.8x and 1.2x\n",
        "    return zoom(volume, zoom_factor)\n",
        "\n",
        "def create_multiview_dataset(base_path, ct_folders):\n",
        "    for ct_folder in ct_folders:\n",
        "        folder_path = os.path.join(base_path, ct_folder)\n",
        "        # List all items in the folder and process only files (not directories)\n",
        "        for item in os.listdir(folder_path):\n",
        "            item_path = os.path.join(folder_path, item)\n",
        "\n",
        "            # Skip hidden files (those starting with a dot) and directories\n",
        "            if item.startswith('.') or os.path.isdir(item_path):\n",
        "                continue  # Skip hidden files or directories\n",
        "\n",
        "            if os.path.isfile(item_path) and item.endswith('.nii.gz'):  # Check if it's a .nii.gz file\n",
        "                try:\n",
        "                    # Load the original CT scan image\n",
        "                    original_volume = load_nii(item_path)\n",
        "\n",
        "                    # Create subdirectory for each file (based on the file name without extension)\n",
        "                    study_dir_name = os.path.splitext(item)[0]  # Get the file name without extension\n",
        "                    study_save_dir = os.path.join(folder_path, study_dir_name)\n",
        "                    os.makedirs(study_save_dir, exist_ok=True)\n",
        "\n",
        "                    # Save the original image\n",
        "                    save_nii(original_volume, os.path.join(study_save_dir, f\"{study_dir_name}_original.nii.gz\"))\n",
        "\n",
        "                    # Save the rotated image\n",
        "                    rotated_volume = random_rotate(original_volume)\n",
        "                    save_nii(rotated_volume, os.path.join(study_save_dir, f\"{study_dir_name}_rotated.nii.gz\"))\n",
        "\n",
        "                    # Save the zoomed-in image\n",
        "                    zoomed_volume = random_zoom(original_volume)\n",
        "                    save_nii(zoomed_volume, os.path.join(study_save_dir, f\"{study_dir_name}_zoom.nii.gz\"))\n",
        "\n",
        "                except Exception as e:\n",
        "                    print(f\"Error processing {item_path}: {e}\")\n",
        "\n",
        "# Directory structure\n",
        "base_directory = \"MosMedData\"\n",
        "ct_folders = [\"CT-0\", \"CT-23\"]\n",
        "\n",
        "# Create multi-view dataset\n",
        "create_multiview_dataset(base_directory, ct_folders)\n"
      ],
      "metadata": {
        "id": "ELCziUn-4q-1"
      },
      "id": "ELCziUn-4q-1",
      "execution_count": null,
      "outputs": []
    },
    {
      "cell_type": "code",
      "source": [
        "def count_directories(path):\n",
        "    # List all items in the directory and filter for directories\n",
        "    return len([d for d in os.listdir(path) if os.path.isdir(os.path.join(path, d))])\n",
        "\n",
        "# Example usage:\n",
        "path = \"MosMedData/CT-23\"\n",
        "path2 = \"MosMedData/CT-0\"\n",
        "print(f\"Number of directories: {count_directories(path2)}\")\n",
        "print(f\"Number of directories: {count_directories(path)}\")"
      ],
      "metadata": {
        "id": "xLb2CSHlBlx2",
        "outputId": "ff582bab-7c6f-4db1-e952-cb28341dac17",
        "colab": {
          "base_uri": "https://localhost:8080/"
        }
      },
      "id": "xLb2CSHlBlx2",
      "execution_count": 21,
      "outputs": [
        {
          "output_type": "stream",
          "name": "stdout",
          "text": [
            "Number of directories: 100\n",
            "Number of directories: 100\n"
          ]
        }
      ]
    },
    {
      "cell_type": "code",
      "source": [
        "base_path = '/content/MosMedData/CT-23'\n",
        "\n",
        "# Iterate through the files in MosMedData\n",
        "for item in os.listdir(base_path):\n",
        "    item_path = os.path.join(base_path, item)\n",
        "\n",
        "    # Check if it's a file and if it ends with '.gz'\n",
        "    if os.path.isfile(item_path) and item.endswith('.gz'):\n",
        "        os.remove(item_path)  # Delete the file\n",
        "        print(f\"Deleted file: {item_path}\")"
      ],
      "metadata": {
        "id": "flmWMeWaPXaA",
        "outputId": "bad6cddf-5d40-4b1b-a01e-6f9288074623",
        "colab": {
          "base_uri": "https://localhost:8080/"
        }
      },
      "id": "flmWMeWaPXaA",
      "execution_count": 24,
      "outputs": [
        {
          "output_type": "stream",
          "name": "stdout",
          "text": [
            "Deleted file: /content/MosMedData/CT-23/study_1071.nii.gz\n",
            "Deleted file: /content/MosMedData/CT-23/study_0989.nii.gz\n",
            "Deleted file: /content/MosMedData/CT-23/study_0965.nii.gz\n",
            "Deleted file: /content/MosMedData/CT-23/study_0941.nii.gz\n",
            "Deleted file: /content/MosMedData/CT-23/study_1108.nii.gz\n",
            "Deleted file: /content/MosMedData/CT-23/study_0967.nii.gz\n",
            "Deleted file: /content/MosMedData/CT-23/study_0953.nii.gz\n",
            "Deleted file: /content/MosMedData/CT-23/study_0985.nii.gz\n",
            "Deleted file: /content/MosMedData/CT-23/study_0966.nii.gz\n",
            "Deleted file: /content/MosMedData/CT-23/study_0958.nii.gz\n",
            "Deleted file: /content/MosMedData/CT-23/study_1090.nii.gz\n",
            "Deleted file: /content/MosMedData/CT-23/study_0990.nii.gz\n",
            "Deleted file: /content/MosMedData/CT-23/study_1089.nii.gz\n",
            "Deleted file: /content/MosMedData/CT-23/study_0975.nii.gz\n",
            "Deleted file: /content/MosMedData/CT-23/study_1081.nii.gz\n",
            "Deleted file: /content/MosMedData/CT-23/study_1067.nii.gz\n",
            "Deleted file: /content/MosMedData/CT-23/study_1076.nii.gz\n",
            "Deleted file: /content/MosMedData/CT-23/study_0972.nii.gz\n",
            "Deleted file: /content/MosMedData/CT-23/study_1096.nii.gz\n",
            "Deleted file: /content/MosMedData/CT-23/study_1093.nii.gz\n",
            "Deleted file: /content/MosMedData/CT-23/study_0992.nii.gz\n",
            "Deleted file: /content/MosMedData/CT-23/study_1068.nii.gz\n",
            "Deleted file: /content/MosMedData/CT-23/study_1098.nii.gz\n",
            "Deleted file: /content/MosMedData/CT-23/study_1080.nii.gz\n",
            "Deleted file: /content/MosMedData/CT-23/study_1069.nii.gz\n",
            "Deleted file: /content/MosMedData/CT-23/study_1079.nii.gz\n",
            "Deleted file: /content/MosMedData/CT-23/study_0949.nii.gz\n",
            "Deleted file: /content/MosMedData/CT-23/study_0982.nii.gz\n",
            "Deleted file: /content/MosMedData/CT-23/study_1085.nii.gz\n",
            "Deleted file: /content/MosMedData/CT-23/study_0969.nii.gz\n",
            "Deleted file: /content/MosMedData/CT-23/study_0964.nii.gz\n",
            "Deleted file: /content/MosMedData/CT-23/study_1065.nii.gz\n",
            "Deleted file: /content/MosMedData/CT-23/study_1092.nii.gz\n",
            "Deleted file: /content/MosMedData/CT-23/study_1095.nii.gz\n",
            "Deleted file: /content/MosMedData/CT-23/study_0981.nii.gz\n",
            "Deleted file: /content/MosMedData/CT-23/study_0979.nii.gz\n",
            "Deleted file: /content/MosMedData/CT-23/study_1072.nii.gz\n",
            "Deleted file: /content/MosMedData/CT-23/study_1066.nii.gz\n",
            "Deleted file: /content/MosMedData/CT-23/study_1083.nii.gz\n",
            "Deleted file: /content/MosMedData/CT-23/study_1103.nii.gz\n",
            "Deleted file: /content/MosMedData/CT-23/study_0988.nii.gz\n",
            "Deleted file: /content/MosMedData/CT-23/study_1106.nii.gz\n",
            "Deleted file: /content/MosMedData/CT-23/study_0947.nii.gz\n",
            "Deleted file: /content/MosMedData/CT-23/study_0948.nii.gz\n",
            "Deleted file: /content/MosMedData/CT-23/study_0974.nii.gz\n",
            "Deleted file: /content/MosMedData/CT-23/study_1088.nii.gz\n",
            "Deleted file: /content/MosMedData/CT-23/study_0971.nii.gz\n",
            "Deleted file: /content/MosMedData/CT-23/study_0968.nii.gz\n",
            "Deleted file: /content/MosMedData/CT-23/study_0986.nii.gz\n",
            "Deleted file: /content/MosMedData/CT-23/study_0978.nii.gz\n",
            "Deleted file: /content/MosMedData/CT-23/study_0987.nii.gz\n",
            "Deleted file: /content/MosMedData/CT-23/study_0957.nii.gz\n",
            "Deleted file: /content/MosMedData/CT-23/study_0946.nii.gz\n",
            "Deleted file: /content/MosMedData/CT-23/study_1100.nii.gz\n",
            "Deleted file: /content/MosMedData/CT-23/study_1064.nii.gz\n",
            "Deleted file: /content/MosMedData/CT-23/study_1078.nii.gz\n",
            "Deleted file: /content/MosMedData/CT-23/study_1082.nii.gz\n",
            "Deleted file: /content/MosMedData/CT-23/study_0983.nii.gz\n",
            "Deleted file: /content/MosMedData/CT-23/study_1105.nii.gz\n",
            "Deleted file: /content/MosMedData/CT-23/study_0939.nii.gz\n",
            "Deleted file: /content/MosMedData/CT-23/study_1074.nii.gz\n",
            "Deleted file: /content/MosMedData/CT-23/study_1077.nii.gz\n",
            "Deleted file: /content/MosMedData/CT-23/study_0970.nii.gz\n",
            "Deleted file: /content/MosMedData/CT-23/study_1087.nii.gz\n",
            "Deleted file: /content/MosMedData/CT-23/study_1086.nii.gz\n",
            "Deleted file: /content/MosMedData/CT-23/study_0961.nii.gz\n",
            "Deleted file: /content/MosMedData/CT-23/study_0976.nii.gz\n",
            "Deleted file: /content/MosMedData/CT-23/study_0984.nii.gz\n",
            "Deleted file: /content/MosMedData/CT-23/study_1073.nii.gz\n",
            "Deleted file: /content/MosMedData/CT-23/study_0991.nii.gz\n",
            "Deleted file: /content/MosMedData/CT-23/study_0960.nii.gz\n",
            "Deleted file: /content/MosMedData/CT-23/study_1101.nii.gz\n",
            "Deleted file: /content/MosMedData/CT-23/study_0942.nii.gz\n",
            "Deleted file: /content/MosMedData/CT-23/study_1094.nii.gz\n",
            "Deleted file: /content/MosMedData/CT-23/study_1107.nii.gz\n",
            "Deleted file: /content/MosMedData/CT-23/study_1084.nii.gz\n",
            "Deleted file: /content/MosMedData/CT-23/study_0956.nii.gz\n",
            "Deleted file: /content/MosMedData/CT-23/study_0945.nii.gz\n",
            "Deleted file: /content/MosMedData/CT-23/study_0962.nii.gz\n",
            "Deleted file: /content/MosMedData/CT-23/study_1091.nii.gz\n",
            "Deleted file: /content/MosMedData/CT-23/study_1099.nii.gz\n",
            "Deleted file: /content/MosMedData/CT-23/study_0944.nii.gz\n",
            "Deleted file: /content/MosMedData/CT-23/study_0973.nii.gz\n",
            "Deleted file: /content/MosMedData/CT-23/study_0952.nii.gz\n",
            "Deleted file: /content/MosMedData/CT-23/study_0940.nii.gz\n",
            "Deleted file: /content/MosMedData/CT-23/study_1102.nii.gz\n",
            "Deleted file: /content/MosMedData/CT-23/study_0980.nii.gz\n",
            "Deleted file: /content/MosMedData/CT-23/study_0993.nii.gz\n",
            "Deleted file: /content/MosMedData/CT-23/study_0951.nii.gz\n",
            "Deleted file: /content/MosMedData/CT-23/study_0954.nii.gz\n",
            "Deleted file: /content/MosMedData/CT-23/study_1070.nii.gz\n",
            "Deleted file: /content/MosMedData/CT-23/study_0955.nii.gz\n",
            "Deleted file: /content/MosMedData/CT-23/study_1097.nii.gz\n",
            "Deleted file: /content/MosMedData/CT-23/study_0959.nii.gz\n",
            "Deleted file: /content/MosMedData/CT-23/study_0950.nii.gz\n",
            "Deleted file: /content/MosMedData/CT-23/study_0977.nii.gz\n",
            "Deleted file: /content/MosMedData/CT-23/study_0943.nii.gz\n",
            "Deleted file: /content/MosMedData/CT-23/study_1104.nii.gz\n",
            "Deleted file: /content/MosMedData/CT-23/study_0963.nii.gz\n",
            "Deleted file: /content/MosMedData/CT-23/study_1075.nii.gz\n"
          ]
        }
      ]
    },
    {
      "cell_type": "code",
      "source": [
        "print(f\"Number of directories: {count_directories(path2)}\")\n",
        "print(f\"Number of directories: {count_directories(path)}\")"
      ],
      "metadata": {
        "id": "LZwG0EWem5Qc",
        "outputId": "68c2531b-0c9e-4193-e49b-9dbc5d1993de",
        "colab": {
          "base_uri": "https://localhost:8080/"
        }
      },
      "id": "LZwG0EWem5Qc",
      "execution_count": 25,
      "outputs": [
        {
          "output_type": "stream",
          "name": "stdout",
          "text": [
            "Number of directories: 100\n",
            "Number of directories: 100\n"
          ]
        }
      ]
    },
    {
      "cell_type": "code",
      "source": [],
      "metadata": {
        "id": "dMkQ4e_CnO2u"
      },
      "id": "dMkQ4e_CnO2u",
      "execution_count": null,
      "outputs": []
    }
  ],
  "metadata": {
    "kaggle": {
      "accelerator": "none",
      "dataSources": [
        {
          "databundleVersionId": 2420395,
          "sourceId": 29653,
          "sourceType": "competition"
        }
      ],
      "dockerImageVersionId": 30919,
      "isGpuEnabled": false,
      "isInternetEnabled": true,
      "language": "python",
      "sourceType": "notebook"
    },
    "kernelspec": {
      "display_name": "Python 3",
      "name": "python3"
    },
    "language_info": {
      "codemirror_mode": {
        "name": "ipython",
        "version": 3
      },
      "file_extension": ".py",
      "mimetype": "text/x-python",
      "name": "python",
      "nbconvert_exporter": "python",
      "pygments_lexer": "ipython3",
      "version": "3.10.12"
    },
    "papermill": {
      "default_parameters": {},
      "duration": 30.776915,
      "end_time": "2025-03-21T01:39:31.730854",
      "environment_variables": {},
      "exception": null,
      "input_path": "__notebook__.ipynb",
      "output_path": "__notebook__.ipynb",
      "parameters": {},
      "start_time": "2025-03-21T01:39:00.953939",
      "version": "2.6.0"
    },
    "colab": {
      "provenance": []
    }
  },
  "nbformat": 4,
  "nbformat_minor": 5
}