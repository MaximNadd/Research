{
  "cells": [
    {
      "cell_type": "code",
      "execution_count": 3,
      "id": "f281acdf",
      "metadata": {
        "_cell_guid": "b1076dfc-b9ad-4769-8c92-a6c4dae69d19",
        "_uuid": "8f2839f25d086af736a60e9eeb907d3b93b6e0e5",
        "execution": {
          "iopub.execute_input": "2025-03-21T01:39:03.472259Z",
          "iopub.status.busy": "2025-03-21T01:39:03.472003Z",
          "iopub.status.idle": "2025-03-21T01:39:17.501324Z",
          "shell.execute_reply": "2025-03-21T01:39:17.500227Z"
        },
        "id": "f281acdf",
        "papermill": {
          "duration": 14.035528,
          "end_time": "2025-03-21T01:39:17.502887",
          "exception": false,
          "start_time": "2025-03-21T01:39:03.467359",
          "status": "completed"
        },
        "tags": []
      },
      "outputs": [],
      "source": [
        "import tensorflow as tf\n",
        "import os\n",
        "import numpy as np\n",
        "import matplotlib.pyplot as plt\n",
        "import seaborn as sns\n",
        "import nibabel as nib\n",
        "from scipy import ndimage\n",
        "from scipy.ndimage import rotate, zoom\n",
        "import zipfile\n",
        "import random\n",
        "from keras.utils import get_file\n",
        "from sklearn.model_selection import train_test_split"
      ]
    },
    {
      "cell_type": "code",
      "execution_count": 4,
      "id": "442bcd7a",
      "metadata": {
        "colab": {
          "base_uri": "https://localhost:8080/"
        },
        "id": "442bcd7a",
        "outputId": "df85262d-4b0b-4f54-b965-94fef5f6bd63",
        "papermill": {
          "duration": 0.044248,
          "end_time": "2025-03-21T01:39:29.144330",
          "exception": false,
          "start_time": "2025-03-21T01:39:29.100082",
          "status": "completed"
        },
        "tags": []
      },
      "outputs": [
        {
          "name": "stdout",
          "output_type": "stream",
          "text": [
            "Downloading data from https://github.com/hasibzunair/3D-image-classification-tutorial/releases/download/v0.2/CT-0.zip\n",
            "\u001b[1m1065471431/1065471431\u001b[0m \u001b[32m━━━━━━━━━━━━━━━━━━━━\u001b[0m\u001b[37m\u001b[0m \u001b[1m1325s\u001b[0m 1us/step\n",
            "Downloading data from https://github.com/hasibzunair/3D-image-classification-tutorial/releases/download/v0.2/CT-23.zip\n",
            "\u001b[1m1045162547/1045162547\u001b[0m \u001b[32m━━━━━━━━━━━━━━━━━━━━\u001b[0m\u001b[37m\u001b[0m \u001b[1m1537s\u001b[0m 1us/step\n"
          ]
        }
      ],
      "source": [
        "url_1 = \"https://github.com/hasibzunair/3D-image-classification-tutorial/releases/download/v0.2/CT-0.zip\"\n",
        "url_2 = \"https://github.com/hasibzunair/3D-image-classification-tutorial/releases/download/v0.2/CT-23.zip\"\n",
        "\n",
        "# Directory where the files will be stored\n",
        "cache_dir = os.getcwd()  # Current working directory\n",
        "\n",
        "# Download the first file\n",
        "filename_1 = get_file(\"CT-0.zip\", url_1, cache_dir=cache_dir)\n",
        "\n",
        "# Download the second file\n",
        "filename_2 = get_file(\"CT-23.zip\", url_2, cache_dir=cache_dir)\n",
        "\n",
        "# Make a directory to store the data\n",
        "os.makedirs(\"MosMedData\", exist_ok=True)  # Using exist_ok=True to avoid errors if the directory exists\n",
        "\n",
        "# Unzip the first file\n",
        "with zipfile.ZipFile(filename_1, \"r\") as z_fp:\n",
        "    z_fp.extractall(\"./MosMedData/\")\n",
        "\n",
        "# Unzip the second file\n",
        "with zipfile.ZipFile(filename_2, \"r\") as z_fp:\n",
        "    z_fp.extractall(\"./MosMedData/\")"
      ]
    },
    {
      "cell_type": "code",
      "execution_count": 5,
      "id": "set7B1cym9Zr",
      "metadata": {
        "colab": {
          "base_uri": "https://localhost:8080/"
        },
        "id": "set7B1cym9Zr",
        "outputId": "03a1222c-eb2a-415b-b632-bf95475896ba"
      },
      "outputs": [
        {
          "name": "stdout",
          "output_type": "stream",
          "text": [
            "There are 2 directories and 0 images in 'MosMedData'.\n",
            "There are 0 directories and 100 images in 'MosMedData\\CT-0'.\n",
            "There are 0 directories and 100 images in 'MosMedData\\CT-23'.\n"
          ]
        }
      ],
      "source": [
        "for dirpath, dirnames, filenames in os.walk(\"MosMedData\"):\n",
        "  print(f\"There are {len(dirnames)} directories and {len(filenames)} images in '{dirpath}'.\")"
      ]
    },
    {
      "cell_type": "code",
      "execution_count": 6,
      "id": "VQw3Se0UVaVy",
      "metadata": {
        "id": "VQw3Se0UVaVy"
      },
      "outputs": [],
      "source": [
        "# import shutil\n",
        "\n",
        "# # Path to the directory to be deleted\n",
        "# directory_path_ct23 = '/content/MosMedData/CT-23'\n",
        "# directory_path_ct0 = '/content/MosMedData/CT-0'\n",
        "\n",
        "# # Delete the directory and all its contents\n",
        "# shutil.rmtree(directory_path_ct23)\n",
        "# shutil.rmtree(directory_path_ct0)"
      ]
    },
    {
      "cell_type": "code",
      "execution_count": null,
      "id": "ELCziUn-4q-1",
      "metadata": {
        "id": "ELCziUn-4q-1"
      },
      "outputs": [],
      "source": [
        "# Function to load a .nii.gz file\n",
        "def load_nii(file_path):\n",
        "    return nib.load(file_path).get_fdata()\n",
        "\n",
        "def save_nii(volume, save_path):\n",
        "    new_img = nib.Nifti1Image(volume, np.eye(4))  # Assuming the affine matrix is identity\n",
        "    nib.save(new_img, save_path)\n",
        "\n",
        "# Function to apply a random rotation to the volume\n",
        "def random_rotate(volume):\n",
        "    angle = random.uniform(0, 360)\n",
        "    return rotate(volume, angle, axes=(0, 1), reshape=False)  # Rotate around the first two axes\n",
        "\n",
        "# Function to apply random zoom to the volume\n",
        "def random_zoom(volume):\n",
        "    zoom_factor = random.uniform(0.8, 1.2)  # Random zoom factor between 0.8x and 1.2x\n",
        "    return zoom(volume, zoom_factor)\n",
        "\n",
        "def create_multiview_dataset(base_path, ct_folders):\n",
        "    for ct_folder in ct_folders:\n",
        "        folder_path = os.path.join(base_path, ct_folder)\n",
        "        # List all items in the folder and process only files (not directories)\n",
        "        for item in os.listdir(folder_path):\n",
        "            item_path = os.path.join(folder_path, item)\n",
        "\n",
        "            # Skip hidden files (those starting with a dot) and directories\n",
        "            if item.startswith('.') or os.path.isdir(item_path):\n",
        "                continue  # Skip hidden files or directories\n",
        "\n",
        "            if os.path.isfile(item_path) and item.endswith('.nii.gz'):  # Check if it's a .nii.gz file\n",
        "                try:\n",
        "                    # Load the original CT scan image\n",
        "                    original_volume = load_nii(item_path)\n",
        "\n",
        "                    # Create subdirectory for each file (based on the file name without extension)\n",
        "                    study_dir_name = os.path.splitext(item)[0]  # Get the file name without extension\n",
        "                    study_save_dir = os.path.join(folder_path, study_dir_name)\n",
        "                    os.makedirs(study_save_dir, exist_ok=True)\n",
        "\n",
        "                    # Save the original image\n",
        "                    save_nii(original_volume, os.path.join(study_save_dir, f\"{study_dir_name}_original.nii.gz\"))\n",
        "\n",
        "                    # Save the rotated image\n",
        "                    rotated_volume = random_rotate(original_volume)\n",
        "                    save_nii(rotated_volume, os.path.join(study_save_dir, f\"{study_dir_name}_rotated.nii.gz\"))\n",
        "\n",
        "                    # Save the zoomed-in image\n",
        "                    zoomed_volume = random_zoom(original_volume)\n",
        "                    save_nii(zoomed_volume, os.path.join(study_save_dir, f\"{study_dir_name}_zoom.nii.gz\"))\n",
        "\n",
        "                except Exception as e:\n",
        "                    print(f\"Error processing {item_path}: {e}\")\n",
        "\n",
        "# Directory structure\n",
        "base_directory = \"MosMedData\"\n",
        "ct_folders = [\"CT-0\", \"CT-23\"]\n",
        "\n",
        "# Create multi-view dataset\n",
        "create_multiview_dataset(base_directory, ct_folders)\n"
      ]
    },
    {
      "cell_type": "code",
      "execution_count": 8,
      "id": "xLb2CSHlBlx2",
      "metadata": {
        "colab": {
          "base_uri": "https://localhost:8080/"
        },
        "id": "xLb2CSHlBlx2",
        "outputId": "ff582bab-7c6f-4db1-e952-cb28341dac17"
      },
      "outputs": [
        {
          "name": "stdout",
          "output_type": "stream",
          "text": [
            "Number of directories: 100\n",
            "Number of directories: 100\n"
          ]
        }
      ],
      "source": [
        "def count_directories(path):\n",
        "    # List all items in the directory and filter for directories\n",
        "    return len([d for d in os.listdir(path) if os.path.isdir(os.path.join(path, d))])\n",
        "\n",
        "# Example usage:\n",
        "path = \"MosMedData/CT-23\"\n",
        "path2 = \"MosMedData/CT-0\"\n",
        "print(f\"Number of directories: {count_directories(path2)}\")\n",
        "print(f\"Number of directories: {count_directories(path)}\")"
      ]
    },
    {
      "cell_type": "code",
      "execution_count": 12,
      "id": "flmWMeWaPXaA",
      "metadata": {
        "colab": {
          "base_uri": "https://localhost:8080/"
        },
        "id": "flmWMeWaPXaA",
        "outputId": "bad6cddf-5d40-4b1b-a01e-6f9288074623"
      },
      "outputs": [
        {
          "name": "stdout",
          "output_type": "stream",
          "text": [
            "Deleted file: ./MosMedData/CT-0\\study_0001.nii.gz\n",
            "Deleted file: ./MosMedData/CT-0\\study_0002.nii.gz\n",
            "Deleted file: ./MosMedData/CT-0\\study_0003.nii.gz\n",
            "Deleted file: ./MosMedData/CT-0\\study_0004.nii.gz\n",
            "Deleted file: ./MosMedData/CT-0\\study_0005.nii.gz\n",
            "Deleted file: ./MosMedData/CT-0\\study_0006.nii.gz\n",
            "Deleted file: ./MosMedData/CT-0\\study_0007.nii.gz\n",
            "Deleted file: ./MosMedData/CT-0\\study_0008.nii.gz\n",
            "Deleted file: ./MosMedData/CT-0\\study_0009.nii.gz\n",
            "Deleted file: ./MosMedData/CT-0\\study_0010.nii.gz\n",
            "Deleted file: ./MosMedData/CT-0\\study_0011.nii.gz\n",
            "Deleted file: ./MosMedData/CT-0\\study_0012.nii.gz\n",
            "Deleted file: ./MosMedData/CT-0\\study_0013.nii.gz\n",
            "Deleted file: ./MosMedData/CT-0\\study_0014.nii.gz\n",
            "Deleted file: ./MosMedData/CT-0\\study_0015.nii.gz\n",
            "Deleted file: ./MosMedData/CT-0\\study_0016.nii.gz\n",
            "Deleted file: ./MosMedData/CT-0\\study_0017.nii.gz\n",
            "Deleted file: ./MosMedData/CT-0\\study_0018.nii.gz\n",
            "Deleted file: ./MosMedData/CT-0\\study_0019.nii.gz\n",
            "Deleted file: ./MosMedData/CT-0\\study_0020.nii.gz\n",
            "Deleted file: ./MosMedData/CT-0\\study_0021.nii.gz\n",
            "Deleted file: ./MosMedData/CT-0\\study_0022.nii.gz\n",
            "Deleted file: ./MosMedData/CT-0\\study_0023.nii.gz\n",
            "Deleted file: ./MosMedData/CT-0\\study_0024.nii.gz\n",
            "Deleted file: ./MosMedData/CT-0\\study_0025.nii.gz\n",
            "Deleted file: ./MosMedData/CT-0\\study_0026.nii.gz\n",
            "Deleted file: ./MosMedData/CT-0\\study_0027.nii.gz\n",
            "Deleted file: ./MosMedData/CT-0\\study_0028.nii.gz\n",
            "Deleted file: ./MosMedData/CT-0\\study_0029.nii.gz\n",
            "Deleted file: ./MosMedData/CT-0\\study_0030.nii.gz\n",
            "Deleted file: ./MosMedData/CT-0\\study_0031.nii.gz\n",
            "Deleted file: ./MosMedData/CT-0\\study_0032.nii.gz\n",
            "Deleted file: ./MosMedData/CT-0\\study_0033.nii.gz\n",
            "Deleted file: ./MosMedData/CT-0\\study_0034.nii.gz\n",
            "Deleted file: ./MosMedData/CT-0\\study_0035.nii.gz\n",
            "Deleted file: ./MosMedData/CT-0\\study_0036.nii.gz\n",
            "Deleted file: ./MosMedData/CT-0\\study_0037.nii.gz\n",
            "Deleted file: ./MosMedData/CT-0\\study_0038.nii.gz\n",
            "Deleted file: ./MosMedData/CT-0\\study_0039.nii.gz\n",
            "Deleted file: ./MosMedData/CT-0\\study_0040.nii.gz\n",
            "Deleted file: ./MosMedData/CT-0\\study_0041.nii.gz\n",
            "Deleted file: ./MosMedData/CT-0\\study_0042.nii.gz\n",
            "Deleted file: ./MosMedData/CT-0\\study_0043.nii.gz\n",
            "Deleted file: ./MosMedData/CT-0\\study_0044.nii.gz\n",
            "Deleted file: ./MosMedData/CT-0\\study_0045.nii.gz\n",
            "Deleted file: ./MosMedData/CT-0\\study_0046.nii.gz\n",
            "Deleted file: ./MosMedData/CT-0\\study_0047.nii.gz\n",
            "Deleted file: ./MosMedData/CT-0\\study_0048.nii.gz\n",
            "Deleted file: ./MosMedData/CT-0\\study_0049.nii.gz\n",
            "Deleted file: ./MosMedData/CT-0\\study_0050.nii.gz\n",
            "Deleted file: ./MosMedData/CT-0\\study_0051.nii.gz\n",
            "Deleted file: ./MosMedData/CT-0\\study_0052.nii.gz\n",
            "Deleted file: ./MosMedData/CT-0\\study_0053.nii.gz\n",
            "Deleted file: ./MosMedData/CT-0\\study_0054.nii.gz\n",
            "Deleted file: ./MosMedData/CT-0\\study_0055.nii.gz\n",
            "Deleted file: ./MosMedData/CT-0\\study_0056.nii.gz\n",
            "Deleted file: ./MosMedData/CT-0\\study_0057.nii.gz\n",
            "Deleted file: ./MosMedData/CT-0\\study_0058.nii.gz\n",
            "Deleted file: ./MosMedData/CT-0\\study_0059.nii.gz\n",
            "Deleted file: ./MosMedData/CT-0\\study_0060.nii.gz\n",
            "Deleted file: ./MosMedData/CT-0\\study_0061.nii.gz\n",
            "Deleted file: ./MosMedData/CT-0\\study_0062.nii.gz\n",
            "Deleted file: ./MosMedData/CT-0\\study_0063.nii.gz\n",
            "Deleted file: ./MosMedData/CT-0\\study_0064.nii.gz\n",
            "Deleted file: ./MosMedData/CT-0\\study_0065.nii.gz\n",
            "Deleted file: ./MosMedData/CT-0\\study_0066.nii.gz\n",
            "Deleted file: ./MosMedData/CT-0\\study_0067.nii.gz\n",
            "Deleted file: ./MosMedData/CT-0\\study_0068.nii.gz\n",
            "Deleted file: ./MosMedData/CT-0\\study_0069.nii.gz\n",
            "Deleted file: ./MosMedData/CT-0\\study_0070.nii.gz\n",
            "Deleted file: ./MosMedData/CT-0\\study_0071.nii.gz\n",
            "Deleted file: ./MosMedData/CT-0\\study_0072.nii.gz\n",
            "Deleted file: ./MosMedData/CT-0\\study_0073.nii.gz\n",
            "Deleted file: ./MosMedData/CT-0\\study_0074.nii.gz\n",
            "Deleted file: ./MosMedData/CT-0\\study_0075.nii.gz\n",
            "Deleted file: ./MosMedData/CT-0\\study_0076.nii.gz\n",
            "Deleted file: ./MosMedData/CT-0\\study_0077.nii.gz\n",
            "Deleted file: ./MosMedData/CT-0\\study_0078.nii.gz\n",
            "Deleted file: ./MosMedData/CT-0\\study_0079.nii.gz\n",
            "Deleted file: ./MosMedData/CT-0\\study_0080.nii.gz\n",
            "Deleted file: ./MosMedData/CT-0\\study_0081.nii.gz\n",
            "Deleted file: ./MosMedData/CT-0\\study_0082.nii.gz\n",
            "Deleted file: ./MosMedData/CT-0\\study_0083.nii.gz\n",
            "Deleted file: ./MosMedData/CT-0\\study_0084.nii.gz\n",
            "Deleted file: ./MosMedData/CT-0\\study_0085.nii.gz\n",
            "Deleted file: ./MosMedData/CT-0\\study_0086.nii.gz\n",
            "Deleted file: ./MosMedData/CT-0\\study_0087.nii.gz\n",
            "Deleted file: ./MosMedData/CT-0\\study_0088.nii.gz\n",
            "Deleted file: ./MosMedData/CT-0\\study_0089.nii.gz\n",
            "Deleted file: ./MosMedData/CT-0\\study_0090.nii.gz\n",
            "Deleted file: ./MosMedData/CT-0\\study_0091.nii.gz\n",
            "Deleted file: ./MosMedData/CT-0\\study_0092.nii.gz\n",
            "Deleted file: ./MosMedData/CT-0\\study_0093.nii.gz\n",
            "Deleted file: ./MosMedData/CT-0\\study_0094.nii.gz\n",
            "Deleted file: ./MosMedData/CT-0\\study_0095.nii.gz\n",
            "Deleted file: ./MosMedData/CT-0\\study_0096.nii.gz\n",
            "Deleted file: ./MosMedData/CT-0\\study_0097.nii.gz\n",
            "Deleted file: ./MosMedData/CT-0\\study_0098.nii.gz\n",
            "Deleted file: ./MosMedData/CT-0\\study_0099.nii.gz\n",
            "Deleted file: ./MosMedData/CT-0\\study_0100.nii.gz\n"
          ]
        }
      ],
      "source": [
        "base_path = './MosMedData/CT-0'\n",
        "\n",
        "# Iterate through the files in MosMedData\n",
        "for item in os.listdir(base_path):\n",
        "    item_path = os.path.join(base_path, item)\n",
        "\n",
        "    # Check if it's a file and if it ends with '.gz'\n",
        "    if os.path.isfile(item_path) and item.endswith('.gz'):\n",
        "        os.remove(item_path)  # Delete the file\n",
        "        print(f\"Deleted file: {item_path}\")"
      ]
    },
    {
      "cell_type": "code",
      "execution_count": 13,
      "id": "LZwG0EWem5Qc",
      "metadata": {
        "colab": {
          "base_uri": "https://localhost:8080/"
        },
        "id": "LZwG0EWem5Qc",
        "outputId": "68c2531b-0c9e-4193-e49b-9dbc5d1993de"
      },
      "outputs": [
        {
          "name": "stdout",
          "output_type": "stream",
          "text": [
            "Number of directories: 100\n",
            "Number of directories: 100\n"
          ]
        }
      ],
      "source": [
        "print(f\"Number of directories: {count_directories(path2)}\")\n",
        "print(f\"Number of directories: {count_directories(path)}\")"
      ]
    },
    {
      "cell_type": "code",
      "execution_count": null,
      "id": "dMkQ4e_CnO2u",
      "metadata": {
        "id": "dMkQ4e_CnO2u"
      },
      "outputs": [],
      "source": []
    }
  ],
  "metadata": {
    "colab": {
      "provenance": []
    },
    "kaggle": {
      "accelerator": "none",
      "dataSources": [
        {
          "databundleVersionId": 2420395,
          "sourceId": 29653,
          "sourceType": "competition"
        }
      ],
      "dockerImageVersionId": 30919,
      "isGpuEnabled": false,
      "isInternetEnabled": true,
      "language": "python",
      "sourceType": "notebook"
    },
    "kernelspec": {
      "display_name": "Python 3",
      "name": "python3"
    },
    "language_info": {
      "codemirror_mode": {
        "name": "ipython",
        "version": 3
      },
      "file_extension": ".py",
      "mimetype": "text/x-python",
      "name": "python",
      "nbconvert_exporter": "python",
      "pygments_lexer": "ipython3",
      "version": "3.11.9"
    },
    "papermill": {
      "default_parameters": {},
      "duration": 30.776915,
      "end_time": "2025-03-21T01:39:31.730854",
      "environment_variables": {},
      "exception": null,
      "input_path": "__notebook__.ipynb",
      "output_path": "__notebook__.ipynb",
      "parameters": {},
      "start_time": "2025-03-21T01:39:00.953939",
      "version": "2.6.0"
    }
  },
  "nbformat": 4,
  "nbformat_minor": 5
}
